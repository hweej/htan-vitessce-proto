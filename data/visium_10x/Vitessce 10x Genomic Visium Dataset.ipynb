{
 "cells": [
  {
   "cell_type": "code",
   "execution_count": 1,
   "id": "2af98276",
   "metadata": {},
   "outputs": [],
   "source": [
    "import scanpy as sc\n",
    "import scipy.cluster\n",
    "from os.path import join\n",
    "import numpy as np"
   ]
  },
  {
   "cell_type": "code",
   "execution_count": 2,
   "id": "7725cc35",
   "metadata": {},
   "outputs": [
    {
     "name": "stderr",
     "output_type": "stream",
     "text": [
      "Variable names are not unique. To make them unique, call `.var_names_make_unique`.\n",
      "Variable names are not unique. To make them unique, call `.var_names_make_unique`.\n"
     ]
    }
   ],
   "source": [
    "adata = sc.datasets.visium_sge(sample_id=\"V1_Human_Lymph_Node\", include_hires_tiff=True)\n",
    "# adata = sc.datasets.visium_sge(sample_id=\"V1_Human_Lymph_Node\")"
   ]
  },
  {
   "cell_type": "code",
   "execution_count": 3,
   "id": "9f3e7a8f",
   "metadata": {},
   "outputs": [
    {
     "name": "stderr",
     "output_type": "stream",
     "text": [
      "OMP: Info #271: omp_set_nested routine deprecated, please use omp_set_max_active_levels instead.\n",
      "Trying to set attribute `.var` of view, copying.\n"
     ]
    }
   ],
   "source": [
    "# Calculate QC metrics\n",
    "adata.var_names_make_unique()\n",
    "adata.var[\"mt\"] = adata.var_names.str.startswith(\"MT-\")\n",
    "sc.pp.calculate_qc_metrics(adata, qc_vars=[\"mt\"], inplace=True)\n",
    "\n",
    "# Perform basic filtering\n",
    "sc.pp.filter_cells(adata, min_counts=5000)\n",
    "sc.pp.filter_cells(adata, max_counts=35000)\n",
    "#print(adata.obs)\n",
    "adata = adata[adata.obs[\"pct_counts_mt\"] < 20]\n",
    "sc.pp.filter_genes(adata, min_cells=10)\n",
    "\n",
    "# Perform normalization\n",
    "sc.pp.normalize_total(adata, inplace=True)\n",
    "sc.pp.log1p(adata)\n",
    "# Determine the top 300 highly variable genes.\n",
    "sc.pp.highly_variable_genes(adata, flavor=\"seurat\", n_top_genes=300)\n",
    "\n",
    "# Dimensionality reduction and clustering\n",
    "sc.pp.pca(adata)\n",
    "sc.pp.neighbors(adata)\n",
    "sc.tl.umap(adata)\n",
    "sc.tl.leiden(adata, key_added=\"clusters\")"
   ]
  },
  {
   "cell_type": "code",
   "execution_count": 4,
   "id": "ed067aa6",
   "metadata": {},
   "outputs": [],
   "source": [
    "# Get the highly variable gene matrix as a plain NumPy array\n",
    "X_hvg_arr = adata[:, adata.var['highly_variable']].X.toarray()\n",
    "X_hvg_index = adata[:, adata.var['highly_variable']].var.copy().index\n",
    "\n",
    "# Perform average linkage hierarchical clustering on along the genes axis of the array\n",
    "Z = scipy.cluster.hierarchy.linkage(X_hvg_arr.T, method=\"average\", optimal_ordering=True)\n",
    "\n",
    "# Get the hierarchy-based ordering of genes.\n",
    "num_genes = adata.var.shape[0]\n",
    "highly_var_index_ordering = scipy.cluster.hierarchy.leaves_list(Z)\n",
    "highly_var_genes = X_hvg_index.values[highly_var_index_ordering].tolist()\n",
    "\n",
    "all_genes = adata.var.index.values.tolist()\n",
    "not_var_genes = adata.var.loc[~adata.var['highly_variable']].index.values.tolist()\n",
    "\n",
    "def get_orig_index(gene_id):\n",
    "    return all_genes.index(gene_id)\n",
    "var_index_ordering = list(map(get_orig_index, highly_var_genes)) + list(map(get_orig_index, not_var_genes))"
   ]
  },
  {
   "cell_type": "code",
   "execution_count": 5,
   "id": "616ae8ca",
   "metadata": {},
   "outputs": [],
   "source": [
    "adata = adata[:, var_index_ordering].copy()"
   ]
  },
  {
   "cell_type": "code",
   "execution_count": 6,
   "id": "05e052bb",
   "metadata": {},
   "outputs": [],
   "source": [
    "adata.obsm['X_hvg'] = adata[:, adata.var['highly_variable']].X.copy()"
   ]
  },
  {
   "cell_type": "code",
   "execution_count": 7,
   "id": "91f8063f",
   "metadata": {},
   "outputs": [],
   "source": [
    "adata.obsm['spatial'] = adata.obsm['spatial'].astype('uint16')"
   ]
  },
  {
   "cell_type": "code",
   "execution_count": 8,
   "id": "e639122f",
   "metadata": {},
   "outputs": [],
   "source": [
    "# Convert images from interleaved to non-interleaved (the color axis should be first).\n",
    "img_hires = adata.uns['spatial']['V1_Human_Lymph_Node']['images']['hires']\n",
    "img_lowres = adata.uns['spatial']['V1_Human_Lymph_Node']['images']['lowres']\n",
    "\n",
    "adata.uns['spatial']['V1_Human_Lymph_Node']['images']['hires'] = np.transpose(img_hires, (2, 0, 1))\n",
    "adata.uns['spatial']['V1_Human_Lymph_Node']['images']['lowres'] = np.transpose(img_lowres, (2, 0, 1))"
   ]
  },
  {
   "cell_type": "code",
   "execution_count": 9,
   "id": "9936fffd",
   "metadata": {},
   "outputs": [
    {
     "name": "stderr",
     "output_type": "stream",
     "text": [
      "... storing 'feature_types' as categorical\n",
      "... storing 'genome' as categorical\n"
     ]
    }
   ],
   "source": [
    "adata.write_zarr(\"./V1_Human_Lymph_Node.zarr\")"
   ]
  },
  {
   "cell_type": "raw",
   "id": "9f05cf10",
   "metadata": {},
   "source": []
  }
 ],
 "metadata": {
  "kernelspec": {
   "display_name": "Python 3 (ipykernel)",
   "language": "python",
   "name": "python3"
  },
  "language_info": {
   "codemirror_mode": {
    "name": "ipython",
    "version": 3
   },
   "file_extension": ".py",
   "mimetype": "text/x-python",
   "name": "python",
   "nbconvert_exporter": "python",
   "pygments_lexer": "ipython3",
   "version": "3.8.12"
  }
 },
 "nbformat": 4,
 "nbformat_minor": 5
}
